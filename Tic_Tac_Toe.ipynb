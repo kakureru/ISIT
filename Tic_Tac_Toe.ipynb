{
  "nbformat": 4,
  "nbformat_minor": 0,
  "metadata": {
    "colab": {
      "provenance": [],
      "authorship_tag": "ABX9TyNsaNfnPH1uWvxSoHcyb7JZ",
      "include_colab_link": true
    },
    "kernelspec": {
      "name": "python3",
      "display_name": "Python 3"
    },
    "language_info": {
      "name": "python"
    }
  },
  "cells": [
    {
      "cell_type": "markdown",
      "metadata": {
        "id": "view-in-github",
        "colab_type": "text"
      },
      "source": [
        "<a href=\"https://colab.research.google.com/github/kakureru/ISIT/blob/main/Tic_Tac_Toe.ipynb\" target=\"_parent\"><img src=\"https://colab.research.google.com/assets/colab-badge.svg\" alt=\"Open In Colab\"/></a>"
      ]
    },
    {
      "cell_type": "code",
      "execution_count": 2,
      "metadata": {
        "id": "gRumiWE2Wz_A"
      },
      "outputs": [],
      "source": [
        "import numpy as np \n",
        "import pandas as pd \n",
        "import pprint,random\n",
        "\n",
        "from scipy.ndimage.interpolation import shift\n",
        "import matplotlib.pyplot as plt\n",
        "\n",
        "from keras.models import Sequential\n",
        "from keras.layers import Dense,Dropout\n",
        "from keras.optimizers import SGD"
      ]
    },
    {
      "cell_type": "markdown",
      "source": [
        "# Game Engine\n",
        "Для простоты программа всегда играет с 1, а противник с 0\n",
        "*   2: пустая ячейка\n",
        "*   0: О\n",
        "*   1: X\n"
      ],
      "metadata": {
        "id": "VuXUOR_8fpKA"
      }
    },
    {
      "cell_type": "code",
      "source": [
        "class tic_tac_toe_game(object):\n",
        "    def __init__(self):\n",
        "        self.board=np.full((3,3),2)\n",
        "\n",
        "    # Имитация жребия\n",
        "    def toss(self):\n",
        "        turn=np.random.randint(0,2,size=1)\n",
        "        if turn.mean()==0:\n",
        "            self.turn_monitor=0\n",
        "        elif turn.mean()==1:\n",
        "            self.turn_monitor=1\n",
        "        return self.turn_monitor\n",
        "\n",
        "    # Ход. После совершения хода значение turn_monitor переключается на следующего игрока\n",
        "    def move(self,player,coord):\n",
        "        if self.board[coord]!=2 or self.game_status()!=\"In Progress\" or self.turn_monitor!=player:\n",
        "            raise ValueError(\"Invalid move\")\n",
        "        self.board[coord]=player\n",
        "        self.turn_monitor=1-player\n",
        "        return self.game_status(),self.board\n",
        "\n",
        "    # Проверка текущего статуса игры: выиграл, ничья или в процессе\n",
        "    def game_status(self):\n",
        "        # проверка по строкам\n",
        "        for i in range(self.board.shape[0]):\n",
        "            if 2 not in self.board[i,:] and len(set(self.board[i,:]))==1:\n",
        "                return \"Won\"\n",
        "        # проверка по столбцам\n",
        "        for j in range(self.board.shape[1]):\n",
        "            if 2 not in self.board[:,j] and len(set(self.board[:,j]))==1:\n",
        "                return \"Won\"\n",
        "        # проверка по диагоналям\n",
        "        if 2 not in np.diag(self.board) and len(set(np.diag(self.board)))==1:\n",
        "            return \"Won\"\n",
        "        if 2 not in np.diag(np.fliplr(self.board)) and len(set(np.diag(np.fliplr(self.board))))==1:\n",
        "            return \"Won\"\n",
        "        # проверка на ничью\n",
        "        if not 2 in self.board:\n",
        "            return \"Drawn\"\n",
        "        else:\n",
        "            return \"In Progress\""
      ],
      "metadata": {
        "id": "Ez-NugQUeewA"
      },
      "execution_count": 3,
      "outputs": []
    },
    {
      "cell_type": "markdown",
      "source": [
        "# Генератор возможных ходов\n",
        "Получаем набор всех возможных ходов и итоговых состояний доски"
      ],
      "metadata": {
        "id": "G2b8qNcVikOj"
      }
    },
    {
      "cell_type": "code",
      "source": [
        "def legal_moves_generator(current_board_state,turn_monitor):\n",
        "    legal_moves_dict={}\n",
        "    for i in range(current_board_state.shape[0]):\n",
        "        for j in range(current_board_state.shape[1]):\n",
        "            if current_board_state[i,j]==2:\n",
        "                board_state_copy=current_board_state.copy()\n",
        "                board_state_copy[i,j]=turn_monitor\n",
        "                legal_moves_dict[(i,j)]=board_state_copy.flatten()\n",
        "    return legal_moves_dict"
      ],
      "metadata": {
        "id": "rKD9YmL0epii"
      },
      "execution_count": 4,
      "outputs": []
    },
    {
      "cell_type": "markdown",
      "source": [
        "# Модель нейронной сети\n",
        "\n",
        "Модель сопоставляет состояния доски с оценками. Веса нейронной сети инициализируются случайным образом."
      ],
      "metadata": {
        "id": "mmG9XVl8kGi3"
      }
    },
    {
      "cell_type": "code",
      "source": [
        "model = Sequential()\n",
        "model.add(Dense(18, input_dim=9,kernel_initializer='normal', activation='relu'))\n",
        "model.add(Dropout(0.1))\n",
        "model.add(Dense(9, kernel_initializer='normal',activation='relu'))\n",
        "model.add(Dropout(0.1))\n",
        "model.add(Dense(1,kernel_initializer='normal'))\n",
        "\n",
        "learning_rate = 0.001\n",
        "momentum = 0.8\n",
        "\n",
        "sgd = SGD(lr=learning_rate, momentum=momentum,nesterov=False)\n",
        "model.compile(loss='mean_squared_error', optimizer=sgd)\n",
        "model.summary()"
      ],
      "metadata": {
        "colab": {
          "base_uri": "https://localhost:8080/"
        },
        "id": "Ka47GNUYesWG",
        "outputId": "bb98adf8-614f-42e8-8df7-9c75720768ef"
      },
      "execution_count": 5,
      "outputs": [
        {
          "output_type": "stream",
          "name": "stdout",
          "text": [
            "Model: \"sequential\"\n",
            "_________________________________________________________________\n",
            " Layer (type)                Output Shape              Param #   \n",
            "=================================================================\n",
            " dense (Dense)               (None, 18)                180       \n",
            "                                                                 \n",
            " dropout (Dropout)           (None, 18)                0         \n",
            "                                                                 \n",
            " dense_1 (Dense)             (None, 9)                 171       \n",
            "                                                                 \n",
            " dropout_1 (Dropout)         (None, 9)                 0         \n",
            "                                                                 \n",
            " dense_2 (Dense)             (None, 1)                 10        \n",
            "                                                                 \n",
            "=================================================================\n",
            "Total params: 361\n",
            "Trainable params: 361\n",
            "Non-trainable params: 0\n",
            "_________________________________________________________________\n"
          ]
        },
        {
          "output_type": "stream",
          "name": "stderr",
          "text": [
            "/usr/local/lib/python3.8/dist-packages/keras/optimizers/optimizer_v2/gradient_descent.py:108: UserWarning: The `lr` argument is deprecated, use `learning_rate` instead.\n",
            "  super(SGD, self).__init__(name, **kwargs)\n"
          ]
        }
      ]
    },
    {
      "cell_type": "markdown",
      "source": [
        "# Выбор хода\n",
        "Получаем все возможные следующие состояния доски и используем модель для их оценки. Состояние доски, которому присвоен наивысший балл, выбирается в качестве хода"
      ],
      "metadata": {
        "id": "GszHAa4QlEaj"
      }
    },
    {
      "cell_type": "code",
      "source": [
        "def move_selector(model,current_board_state,turn_monitor):\n",
        "    tracker={}\n",
        "    legal_moves_dict=legal_moves_generator(current_board_state,turn_monitor)\n",
        "    for legal_move_coord in legal_moves_dict:\n",
        "        score=model.predict(legal_moves_dict[legal_move_coord].reshape(1,9))\n",
        "        tracker[legal_move_coord]=score\n",
        "    selected_move=max(tracker, key=tracker.get)\n",
        "    new_board_state=legal_moves_dict[selected_move]\n",
        "    score=tracker[selected_move]\n",
        "    return selected_move,new_board_state,score"
      ],
      "metadata": {
        "id": "RuyKfuxce3li"
      },
      "execution_count": 6,
      "outputs": []
    },
    {
      "cell_type": "markdown",
      "source": [
        "# Оппонент\n",
        "У оппонента есть два режима. Легкий режим помогает программе исследовать пространство крестиков-ноликов. Сложный режим помогает программе научиться играть с реальным противником.\n",
        "\n",
        "**Легкий режим:**\n",
        "\n",
        "- Получить все возможные ходы\n",
        "- Выбрать ход наугад\n",
        "\n",
        "**Сложный режим:**\n",
        "\n",
        "- Получить все возможные ходы\n",
        "- Если какой-либо ход принесет победу, сделать этот ход\n",
        "- В противном случае, если какой-либо ход мешает оппоненту выиграть, когда он находится на расстоянии одного хода от победы, выбрать этот ход\n",
        "- В противном случае, если какой-либо ход приводит к строке / диагонали / столбцу с двумя 0 и без 1 (отметка программы), выбрать этот ход\n",
        "- Если ни одно из вышеперечисленных условий не существует, выбрать ход наугад\n",
        "\n",
        "Каждая игра проводится в одном из двух режимов, который выбирается случайным образом.\n",
        "\n"
      ],
      "metadata": {
        "id": "PGZPTYP3lvG6"
      }
    },
    {
      "cell_type": "code",
      "source": [
        "# Проверяем есть ли выигрышные координаты \n",
        "\n",
        "# По строкам\n",
        "def row_winning_move_check(current_board_state,legal_moves_dict,turn_monitor):\n",
        "    legal_move_coords =  list(legal_moves_dict.keys())\n",
        "    random.shuffle(legal_move_coords)\n",
        "    for legal_move_coord in legal_move_coords:\n",
        "        current_board_state_copy=current_board_state.copy()\n",
        "        current_board_state_copy[legal_move_coord]=turn_monitor\n",
        "        #check for a win along rows\n",
        "        for i in range(current_board_state_copy.shape[0]):\n",
        "            if 2 not in current_board_state_copy[i,:] and len(set(current_board_state_copy[i,:]))==1:\n",
        "                selected_move=legal_move_coord\n",
        "                return selected_move\n",
        "\n",
        "# По столбцам       \n",
        "def column_winning_move_check(current_board_state,legal_moves_dict,turn_monitor):\n",
        "    legal_move_coords =  list(legal_moves_dict.keys())\n",
        "    random.shuffle(legal_move_coords)\n",
        "    for legal_move_coord in legal_move_coords:\n",
        "        current_board_state_copy=current_board_state.copy()\n",
        "        current_board_state_copy[legal_move_coord]=turn_monitor\n",
        "        for j in range(current_board_state_copy.shape[1]):\n",
        "                    if 2 not in current_board_state_copy[:,j] and len(set(current_board_state_copy[:,j]))==1:\n",
        "                        selected_move=legal_move_coord\n",
        "                        return selected_move\n",
        "\n",
        "# По первой диагонали    \n",
        "def diag1_winning_move_check(current_board_state,legal_moves_dict,turn_monitor):\n",
        "    legal_move_coords =  list(legal_moves_dict.keys())\n",
        "    random.shuffle(legal_move_coords)\n",
        "    for legal_move_coord in legal_move_coords:\n",
        "        current_board_state_copy=current_board_state.copy()\n",
        "        current_board_state_copy[legal_move_coord]=turn_monitor\n",
        "        if 2 not in np.diag(current_board_state_copy) and len(set(np.diag(current_board_state_copy)))==1:\n",
        "            selected_move=legal_move_coord\n",
        "            return selected_move\n",
        "\n",
        "# По второй диагонали  \n",
        "def diag2_winning_move_check(current_board_state,legal_moves_dict,turn_monitor):\n",
        "    legal_move_coords =  list(legal_moves_dict.keys())\n",
        "    random.shuffle(legal_move_coords)\n",
        "    for legal_move_coord in legal_move_coords:\n",
        "        current_board_state_copy=current_board_state.copy()\n",
        "        current_board_state_copy[legal_move_coord]=turn_monitor\n",
        "        if 2 not in np.diag(np.fliplr(current_board_state_copy)) and len(set(np.diag(np.fliplr(current_board_state_copy))))==1:\n",
        "            selected_move=legal_move_coord\n",
        "            return selected_move\n",
        "        \n",
        "# Проверяем можем ли помешать противнику выиграть \n",
        "\n",
        "# По строкам \n",
        "def row_block_move_check(current_board_state,legal_moves_dict,turn_monitor):\n",
        "    legal_move_coords =  list(legal_moves_dict.keys())\n",
        "    random.shuffle(legal_move_coords)\n",
        "    for legal_move_coord in legal_move_coords:\n",
        "        current_board_state_copy=current_board_state.copy()\n",
        "        current_board_state_copy[legal_move_coord]=turn_monitor\n",
        "        for i in range(current_board_state_copy.shape[0]):\n",
        "            if 2 not in current_board_state_copy[i,:] and (current_board_state_copy[i,:]==1).sum()==2:\n",
        "                if not (2 not in current_board_state[i,:] and (current_board_state[i,:]==1).sum()==2):\n",
        "                    selected_move=legal_move_coord\n",
        "                    return selected_move\n",
        "\n",
        "# По столбцам       \n",
        "def column_block_move_check(current_board_state,legal_moves_dict,turn_monitor):\n",
        "    legal_move_coords =  list(legal_moves_dict.keys())\n",
        "    random.shuffle(legal_move_coords)\n",
        "    for legal_move_coord in legal_move_coords:\n",
        "        current_board_state_copy=current_board_state.copy()\n",
        "        current_board_state_copy[legal_move_coord]=turn_monitor\n",
        "        \n",
        "        for j in range(current_board_state_copy.shape[1]):\n",
        "                    if 2 not in current_board_state_copy[:,j] and (current_board_state_copy[:,j]==1).sum()==2:\n",
        "                        if not (2 not in current_board_state[:,j] and (current_board_state[:,j]==1).sum()==2):\n",
        "                            selected_move=legal_move_coord\n",
        "                            return selected_move\n",
        "\n",
        "# По первой диагонали\n",
        "def diag1_block_move_check(current_board_state,legal_moves_dict,turn_monitor):\n",
        "    legal_move_coords =  list(legal_moves_dict.keys())\n",
        "    random.shuffle(legal_move_coords)\n",
        "    for legal_move_coord in legal_move_coords:\n",
        "        current_board_state_copy=current_board_state.copy()\n",
        "        current_board_state_copy[legal_move_coord]=turn_monitor    \n",
        "        if 2 not in np.diag(current_board_state_copy) and (np.diag(current_board_state_copy)==1).sum()==2:\n",
        "                if not (2 not in np.diag(current_board_state) and (np.diag(current_board_state)==1).sum()==2):\n",
        "                    selected_move=legal_move_coord\n",
        "                    return selected_move\n",
        "\n",
        "# По второй диагонали      \n",
        "def diag2_block_move_check(current_board_state,legal_moves_dict,turn_monitor):\n",
        "    legal_move_coords =  list(legal_moves_dict.keys())\n",
        "    random.shuffle(legal_move_coords)\n",
        "    for legal_move_coord in legal_move_coords:\n",
        "        current_board_state_copy=current_board_state.copy()\n",
        "        current_board_state_copy[legal_move_coord]=turn_monitor\n",
        "        if 2 not in np.diag(np.fliplr(current_board_state_copy)) and (np.diag(np.fliplr(current_board_state_copy))==1).sum()==2:\n",
        "            if not (2 not in np.diag(np.fliplr(current_board_state)) and (np.diag(np.fliplr(current_board_state))==1).sum()==2):\n",
        "                selected_move=legal_move_coord\n",
        "                return selected_move\n",
        "\n",
        "# Проверяем можем ли сделать два 0 и ни одной 1 \n",
        "\n",
        "# По строкам\n",
        "def row_second_move_check(current_board_state,legal_moves_dict,turn_monitor):\n",
        "    legal_move_coords =  list(legal_moves_dict.keys())\n",
        "    random.shuffle(legal_move_coords)\n",
        "    for legal_move_coord in legal_move_coords:\n",
        "        current_board_state_copy=current_board_state.copy()\n",
        "        current_board_state_copy[legal_move_coord]=turn_monitor\n",
        "        \n",
        "        for i in range(current_board_state_copy.shape[0]):\n",
        "            if 1 not in current_board_state_copy[i,:] and (current_board_state_copy[i,:]==0).sum()==2:\n",
        "                if not (1 not in current_board_state[i,:] and (current_board_state[i,:]==0).sum()==2):\n",
        "                    selected_move=legal_move_coord\n",
        "                    return selected_move\n",
        "            \n",
        "# По столбцам            \n",
        "def column_second_move_check(current_board_state,legal_moves_dict,turn_monitor):\n",
        "    legal_move_coords =  list(legal_moves_dict.keys())\n",
        "    random.shuffle(legal_move_coords)\n",
        "    for legal_move_coord in legal_move_coords:\n",
        "        current_board_state_copy=current_board_state.copy()\n",
        "        current_board_state_copy[legal_move_coord]=turn_monitor\n",
        "        \n",
        "        for j in range(current_board_state_copy.shape[1]):\n",
        "                    if 1 not in current_board_state_copy[:,j] and (current_board_state_copy[:,j]==0).sum()==2:\n",
        "                        if not (1 not in current_board_state[:,j] and (current_board_state[:,j]==0).sum()==2):\n",
        "                            selected_move=legal_move_coord\n",
        "                            return selected_move\n",
        "\n",
        "# По первой диагонали\n",
        "def diag1_second_move_check(current_board_state,legal_moves_dict,turn_monitor):\n",
        "    legal_move_coords =  list(legal_moves_dict.keys())\n",
        "    random.shuffle(legal_move_coords)\n",
        "    for legal_move_coord in legal_move_coords:\n",
        "        current_board_state_copy=current_board_state.copy()\n",
        "        current_board_state_copy[legal_move_coord]=turn_monitor\n",
        "        if 1 not in np.diag(current_board_state_copy) and (np.diag(current_board_state_copy)==0).sum()==2:\n",
        "            if not (1 not in np.diag(current_board_state) and (np.diag(current_board_state)==0).sum()==2):\n",
        "                selected_move=legal_move_coord\n",
        "                return selected_move\n",
        "\n",
        "# По второй диагонали         \n",
        "def diag2_second_move_check(current_board_state,legal_moves_dict,turn_monitor):\n",
        "    legal_move_coords =  list(legal_moves_dict.keys())\n",
        "    random.shuffle(legal_move_coords)\n",
        "    for legal_move_coord in legal_move_coords:\n",
        "        current_board_state_copy=current_board_state.copy()\n",
        "        current_board_state_copy[legal_move_coord]=turn_monitor\n",
        "        if 1 not in np.diag(np.fliplr(current_board_state_copy)) and (np.diag(np.fliplr(current_board_state_copy))==0).sum()==2:\n",
        "            if not (1 not in np.diag(np.fliplr(current_board_state)) and (np.diag(np.fliplr(current_board_state))==0).sum()==2):\n",
        "                selected_move=legal_move_coord\n",
        "                return selected_move\n",
        "    \n",
        "# Выбираем ход    \n",
        "def opponent_move_selector(current_board_state,turn_monitor,mode):\n",
        "    legal_moves_dict=legal_moves_generator(current_board_state,turn_monitor)\n",
        "    \n",
        "    winning_move_checks=[row_winning_move_check,column_winning_move_check,diag1_winning_move_check,diag2_winning_move_check]\n",
        "    block_move_checks=[row_block_move_check,column_block_move_check,diag1_block_move_check,diag2_block_move_check]\n",
        "    second_move_checks=[row_second_move_check,column_second_move_check,diag1_second_move_check,diag2_second_move_check]\n",
        "\n",
        "    if mode==\"Hard\":\n",
        "        random.shuffle(winning_move_checks)\n",
        "        random.shuffle(block_move_checks)\n",
        "        random.shuffle(second_move_checks)        \n",
        "        \n",
        "        for fn in winning_move_checks:\n",
        "            if fn(current_board_state,legal_moves_dict,turn_monitor):\n",
        "                return fn(current_board_state,legal_moves_dict,turn_monitor)\n",
        "            \n",
        "        for fn in block_move_checks:\n",
        "            if fn(current_board_state,legal_moves_dict,turn_monitor):\n",
        "                return fn(current_board_state,legal_moves_dict,turn_monitor)\n",
        "            \n",
        "        for fn in second_move_checks:\n",
        "            if fn(current_board_state,legal_moves_dict,turn_monitor):\n",
        "                return fn(current_board_state,legal_moves_dict,turn_monitor)\n",
        "            \n",
        "        selected_move=random.choice(list(legal_moves_dict.keys()))\n",
        "        return selected_move\n",
        "    \n",
        "    elif mode==\"Easy\":\n",
        "        legal_moves_dict=legal_moves_generator(current_board_state,turn_monitor)\n",
        "        selected_move=random.choice(list(legal_moves_dict.keys()))\n",
        "        return selected_move"
      ],
      "metadata": {
        "id": "KkaJDSZBfCrG"
      },
      "execution_count": 7,
      "outputs": []
    },
    {
      "cell_type": "markdown",
      "source": [
        "# Тренировка\n",
        "Сначала веса модели назначаются случайным образом\n",
        "\n",
        "После завершения игры результаты корректируются следующим образом:\n",
        "- Если игра была выиграна программой, присвоить итоговому состоянию доски счет 1\n",
        "- Присвоить -1 в случае проигрыша \n",
        "- 0 в случае ничьей\n",
        "- Обновить веса модели"
      ],
      "metadata": {
        "id": "Pu6yKa9C3dHm"
      }
    },
    {
      "cell_type": "code",
      "source": [
        "def train(model,mode,print_progress=False):\n",
        "    # начинаем игру\n",
        "    if print_progress==True:\n",
        "        print(\"___________________________________________________________________\")\n",
        "        print(\"Starting a new game\")\n",
        "    game=tic_tac_toe_game()\n",
        "    game.toss()\n",
        "    scores_list=[]\n",
        "    corrected_scores_list=[]\n",
        "    new_board_states_list=[]\n",
        "    \n",
        "    while(1):\n",
        "        if game.game_status()==\"In Progress\" and game.turn_monitor==1:\n",
        "            # Если ход программы, выибраем возможные ходы\n",
        "            selected_move,new_board_state,score=move_selector(model,game.board,game.turn_monitor)\n",
        "            scores_list.append(score[0][0])\n",
        "            new_board_states_list.append(new_board_state)\n",
        "            # Делаем ход\n",
        "            game_status,board=game.move(game.turn_monitor,selected_move)\n",
        "            if print_progress==True:\n",
        "                print(\"Program's Move\")\n",
        "                print(board)\n",
        "                print(\"\\n\")\n",
        "        elif game.game_status()==\"In Progress\" and game.turn_monitor==0:\n",
        "            selected_move=opponent_move_selector(game.board,game.turn_monitor,mode=mode)\n",
        "        \n",
        "            # Делаем ход\n",
        "            game_status,board=game.move(game.turn_monitor,selected_move)\n",
        "            if print_progress==True:\n",
        "                print(\"Opponent's Move\")\n",
        "                print(board)\n",
        "                print(\"\\n\")\n",
        "        else:\n",
        "            break\n",
        "\n",
        "    \n",
        "    # Корректируем оценки\n",
        "    new_board_states_list=tuple(new_board_states_list)\n",
        "    new_board_states_list=np.vstack(new_board_states_list)\n",
        "    if game_status==\"Won\" and (1-game.turn_monitor)==1: \n",
        "        corrected_scores_list=shift(scores_list,-1,cval=1.0)\n",
        "        result=\"Won\"\n",
        "    if game_status==\"Won\" and (1-game.turn_monitor)!=1:\n",
        "        corrected_scores_list=shift(scores_list,-1,cval=-1.0)\n",
        "        result=\"Lost\"\n",
        "    if game_status==\"Drawn\":\n",
        "        corrected_scores_list=shift(scores_list,-1,cval=0.0)\n",
        "        result=\"Drawn\"\n",
        "    if print_progress==True:\n",
        "        print(\"Program has \",result)\n",
        "        print(\"\\n Correcting the Scores and Updating the model weights:\")\n",
        "        print(\"___________________________________________________________________\\n\")\n",
        "        \n",
        "    x=new_board_states_list\n",
        "    y=corrected_scores_list\n",
        "    \n",
        "    def unison_shuffled_copies(a, b):\n",
        "        assert len(a) == len(b)\n",
        "        p = np.random.permutation(len(a))\n",
        "        return a[p], b[p]\n",
        "    \n",
        "    # перемешиваем x и y\n",
        "    x,y=unison_shuffled_copies(x,y)\n",
        "    x=x.reshape(-1,9) \n",
        "    \n",
        "    # обновляем веса модели\n",
        "    model.fit(x,y,epochs=1,batch_size=1,verbose=0)\n",
        "    return model,y,result"
      ],
      "metadata": {
        "id": "LJPDGtqNfIao"
      },
      "execution_count": 8,
      "outputs": []
    },
    {
      "cell_type": "markdown",
      "source": [
        "# Тренировочная игра"
      ],
      "metadata": {
        "id": "xxMKV0D56N_2"
      }
    },
    {
      "cell_type": "code",
      "source": [
        "updated_model,y,result=train(model,mode=\"Hard\",print_progress=True)"
      ],
      "metadata": {
        "colab": {
          "base_uri": "https://localhost:8080/"
        },
        "id": "tFb4GCOlfMCk",
        "outputId": "f88b3d9c-4143-4cd2-db60-b8c74d887d5c"
      },
      "execution_count": 9,
      "outputs": [
        {
          "output_type": "stream",
          "name": "stdout",
          "text": [
            "___________________________________________________________________\n",
            "Starting a new game\n",
            "Opponent's Move\n",
            "[[2 2 2]\n",
            " [2 2 2]\n",
            " [2 2 0]]\n",
            "\n",
            "\n",
            "1/1 [==============================] - 1s 565ms/step\n",
            "1/1 [==============================] - 0s 88ms/step\n",
            "1/1 [==============================] - 0s 108ms/step\n",
            "1/1 [==============================] - 0s 37ms/step\n",
            "1/1 [==============================] - 0s 76ms/step\n",
            "1/1 [==============================] - 0s 80ms/step\n",
            "1/1 [==============================] - 0s 36ms/step\n",
            "1/1 [==============================] - 0s 66ms/step\n",
            "Program's Move\n",
            "[[2 2 2]\n",
            " [2 2 2]\n",
            " [2 1 0]]\n",
            "\n",
            "\n",
            "Opponent's Move\n",
            "[[2 2 2]\n",
            " [2 2 0]\n",
            " [2 1 0]]\n",
            "\n",
            "\n",
            "1/1 [==============================] - 0s 43ms/step\n",
            "1/1 [==============================] - 0s 40ms/step\n",
            "1/1 [==============================] - 0s 29ms/step\n",
            "1/1 [==============================] - 0s 43ms/step\n",
            "1/1 [==============================] - 0s 37ms/step\n",
            "1/1 [==============================] - 0s 43ms/step\n",
            "Program's Move\n",
            "[[1 2 2]\n",
            " [2 2 0]\n",
            " [2 1 0]]\n",
            "\n",
            "\n",
            "Opponent's Move\n",
            "[[1 2 0]\n",
            " [2 2 0]\n",
            " [2 1 0]]\n",
            "\n",
            "\n",
            "Program has  Lost\n",
            "\n",
            " Correcting the Scores and Updating the model weights:\n",
            "___________________________________________________________________\n",
            "\n"
          ]
        }
      ]
    },
    {
      "cell_type": "markdown",
      "source": [
        "# Тренировка на большом кол-ве игр"
      ],
      "metadata": {
        "id": "8r-BD0zQ6ua2"
      }
    },
    {
      "cell_type": "code",
      "source": [
        "game_counter=1\n",
        "data_for_graph=pd.DataFrame()\n",
        "\n",
        "mode_list=[\"Easy\",\"Hard\"]\n",
        "\n",
        "while(game_counter<=1000):\n",
        "    mode_selected=np.random.choice(mode_list, 1, p=[0.5,0.5])\n",
        "    model,y,result=train(model,mode=mode_selected[0],print_progress=False)\n",
        "    data_for_graph=data_for_graph.append({\"game_counter\":game_counter,\"result\":result},ignore_index=True)\n",
        "    if game_counter % 10 == 0:\n",
        "        print(\"Game#: \",game_counter)\n",
        "        print(\"Mode: \",mode_selected[0])\n",
        "    game_counter+=1"
      ],
      "metadata": {
        "id": "zVdVabX9fRYj"
      },
      "execution_count": null,
      "outputs": []
    },
    {
      "cell_type": "markdown",
      "source": [
        "Отображение количества побед, ничьих и поражений в зависимости от количества сыгранных игр"
      ],
      "metadata": {
        "id": "0Y9YZ7Fj6_8-"
      }
    },
    {
      "cell_type": "code",
      "source": [
        "bins = np.arange(1, game_counter/100) * 100\n",
        "data_for_graph['game_counter_bins'] = np.digitize(data_for_graph[\"game_counter\"], bins, right=True)\n",
        "counts = data_for_graph.groupby(['game_counter_bins', 'result']).game_counter.count().unstack()\n",
        "ax=counts.plot(kind='bar', stacked=True,figsize=(17,5))\n",
        "ax.set_xlabel(\"Count of Games in Bins of 1000s\")\n",
        "ax.set_ylabel(\"Counts of Draws/Losses/Wins\")\n",
        "ax.set_title('Distribution of Results Vs Count of Games Played')"
      ],
      "metadata": {
        "colab": {
          "base_uri": "https://localhost:8080/",
          "height": 363
        },
        "id": "QdU4X_mifYPs",
        "outputId": "8d7de55a-31e7-477c-b1d7-8235ea37b4c6"
      },
      "execution_count": 15,
      "outputs": [
        {
          "output_type": "execute_result",
          "data": {
            "text/plain": [
              "Text(0.5, 1.0, 'Distribution of Results Vs Count of Games Played')"
            ]
          },
          "metadata": {},
          "execution_count": 15
        },
        {
          "output_type": "display_data",
          "data": {
            "text/plain": [
              "<Figure size 1224x360 with 1 Axes>"
            ],
            "image/png": "[encoded data removed]"
          },
          "metadata": {
            "needs_background": "light"
          }
        }
      ]
    },
    {
      "cell_type": "code",
      "source": [
        "model.save('my_model.h5')  # creates a HDF5 file 'my_model.h5'"
      ],
      "metadata": {
        "id": "z744Ga6boKO0"
      },
      "execution_count": 16,
      "outputs": []
    }
  ]
}