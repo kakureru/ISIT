{
  "nbformat": 4,
  "nbformat_minor": 0,
  "metadata": {
    "kernelspec": {
      "display_name": "Python 3",
      "language": "python",
      "name": "python3"
    },
    "language_info": {
      "codemirror_mode": {
        "name": "ipython",
        "version": 2
      },
      "file_extension": ".py",
      "mimetype": "text/x-python",
      "name": "python",
      "nbconvert_exporter": "python",
      "pygments_lexer": "ipython2",
      "version": "2.7.6"
    },
    "colab": {
      "provenance": [],
      "collapsed_sections": [],
      "include_colab_link": true
    }
  },
  "cells": [
    {
      "cell_type": "markdown",
      "metadata": {
        "id": "view-in-github",
        "colab_type": "text"
      },
      "source": [
        "<a href=\"https://colab.research.google.com/github/kakureru/ISIT/blob/main/ISiT_Task_1.ipynb\" target=\"_parent\"><img src=\"https://colab.research.google.com/assets/colab-badge.svg\" alt=\"Open In Colab\"/></a>"
      ]
    },
    {
      "cell_type": "markdown",
      "metadata": {
        "collapsed": false,
        "id": "NUzNlL7xFZUT"
      },
      "source": [
        "# Задание 1"
      ]
    },
    {
      "cell_type": "code",
      "metadata": {
        "pycharm": {
          "name": "#%%\n"
        },
        "id": "82HtTHAHFZUU"
      },
      "source": [
        "import numpy as np\n",
        "import math\n",
        "import pandas"
      ],
      "execution_count": 1,
      "outputs": []
    },
    {
      "cell_type": "code",
      "source": [
        "# округ\n",
        "okrugname=[\"МО\",\"СЗАО\",\"САО\",\"СВАО\",\"ЗАО\",\"ЦАО\",\"ВАО\",\"ЮЗАО\",\"ЮАО\",\"ЮВАО\"]\n",
        "# зодиак\n",
        "zodiac_name=[\"Овен\",\"Телец\",\"Близнецы\",\"Рак\",\"Лев\",\"Дева\",\"Весы\",\"Скорпион\",\n",
        "             \"Змееносец\",\"Стрелец\",\"Козерог\",\"Водолей\",\"Рыбы\"]\n",
        "# цвет\n",
        "colorname=[\"Красный\",\"Синий\",\"Салатовый\",\"Черный\",\"Белый\",\"Зеленый\",\n",
        "           \"Голубой\",\"Индиго\",\"Оранжевый\",\"Фиолетовый\",\"Розовый\"]\n",
        "# работа\n",
        "jobname=[0,1]\n",
        "# время\n",
        "timename=[x / 10.0 for x in range(0, 240, 5)]\n",
        "# напиток\n",
        "drinkname=[\"Ч\",\"К\"]"
      ],
      "metadata": {
        "id": "qAMfOFVLk3LU"
      },
      "execution_count": 2,
      "outputs": []
    },
    {
      "cell_type": "code",
      "source": [
        "# нормирование\n",
        "def normirovka(listname,rawdata,newdata,numcol):\n",
        "    list1=[0]*len(listname)\n",
        "    for i in range(len(rawdata)):\n",
        "       for j in range(len(listname)):\n",
        "           if rawdata[i][numcol]==listname[j]:\n",
        "               list1[j]+=1\n",
        "               break\n",
        "    minn=min(list1)\n",
        "    maxx=max(list1)-minn\n",
        "    for i in range(len(list1)):\n",
        "        list1[i]-=minn\n",
        "        list1[i]/=maxx\n",
        "    for i in range(len(rawdata)):\n",
        "       for j in range(len(listname)):\n",
        "            if rawdata[i][numcol]==listname[j]:\n",
        "             newdata[i][numcol]=list1[j]\n",
        "             break\n",
        "    return(newdata)\n",
        "\n",
        "# классификация\n",
        "def classify (data, test_point, k):\n",
        "    # Расстояние между точками в 6-мерном Евклидовом пространстве\n",
        "    def dist (a, b):\n",
        "        return math.sqrt((a[0] - b[0])**2 + (a[1] - b[1])**2 + (a[2] - b[2])**2 \n",
        "                         + (a[3] - b[3])**2 + (a[4] - b[4])**2 + (a[5] - b[5])**2)\n",
        "    # Расстояние между контрольной точкой и всеми тренировочными точками\n",
        "    test_dist = [[dist(test_point, data[i]), data[i][6]] for i in range(len(data))]\n",
        "    # Сколько точек каждого класса среди ближайших K\n",
        "    stat = [0, 0]\n",
        "    for d in sorted(test_dist)[0:k]:\n",
        "        stat[int(d[1])] += 1\n",
        "    # Назначаем наиболее распространенный класс среди K ближайших соседей\n",
        "    test_labels = []\t\n",
        "    test_labels.append( sorted(zip(stat, range(2)), reverse=True)[0][1] )\n",
        "    if (test_labels[0] == 1):\n",
        "        print(\"Чай\")\n",
        "    else:\n",
        "      print(\"Кофе\")"
      ],
      "metadata": {
        "id": "mEImtQ0InUrN"
      },
      "execution_count": 3,
      "outputs": []
    },
    {
      "cell_type": "code",
      "source": [
        "# параметры\n",
        "k = 4\n",
        "raw_test_point=[\"ЮВАО\", \"Стрелец\", \"Черный\", 1,6,7]\n",
        "\n",
        "# читаем данные\n",
        "raw_data = pandas.read_csv('Dataset.csv', sep=',', header=1).values\n",
        "\n",
        "row = len(raw_data)\n",
        "col = len(raw_data[0])\n",
        "new_data = [[0] * col for i in range(row)]\n",
        "# нормируем\n",
        "normirovka(okrugname,raw_data,new_data,0) # округ\n",
        "normirovka(zodiac_name,raw_data,new_data,1) # зодиак\n",
        "normirovka(colorname,raw_data,new_data,2) # цвет\n",
        "normirovka(jobname,raw_data,new_data,3) # работа\n",
        "# время подъема\n",
        "for i in range(row):\n",
        "  raw_data[i][4]=float(raw_data[i][4])\n",
        "normirovka(timename,raw_data,new_data,4)\n",
        "# время сна\n",
        "for i in range(row):\n",
        "  raw_data[i][5]=float(raw_data[i][5])\n",
        "normirovka(timename,raw_data,new_data,5)\n",
        "# напиток\n",
        "normirovka(drinkname,raw_data,new_data,6) \n",
        "# тестовая точка\n",
        "new_test_point=[0]*len(raw_test_point)\n",
        "for i in range(len(raw_test_point)):\n",
        "    for j in range(row):\n",
        "       if raw_test_point[i]==raw_data[j][i]:\n",
        "            new_test_point[i]=new_data[j][i]\n",
        "            break\n",
        "\n",
        "# вычисляем чай или кофе\n",
        "classify (new_data, new_test_point, k)"
      ],
      "metadata": {
        "id": "UL28RZH5njMS",
        "colab": {
          "base_uri": "https://localhost:8080/"
        },
        "outputId": "fbab99c3-9ea4-44e2-f98c-8d6306c58c8c"
      },
      "execution_count": 4,
      "outputs": [
        {
          "output_type": "stream",
          "name": "stdout",
          "text": [
            "Чай\n"
          ]
        }
      ]
    }
  ]
}