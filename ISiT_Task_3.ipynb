{
  "nbformat": 4,
  "nbformat_minor": 0,
  "metadata": {
    "colab": {
      "provenance": [],
      "toc_visible": true,
      "authorship_tag": "ABX9TyPmS6+jqlZdjye+H7wiUc2s",
      "include_colab_link": true
    },
    "kernelspec": {
      "name": "python3",
      "display_name": "Python 3"
    },
    "language_info": {
      "name": "python"
    }
  },
  "cells": [
    {
      "cell_type": "markdown",
      "metadata": {
        "id": "view-in-github",
        "colab_type": "text"
      },
      "source": [
        "<a href=\"https://colab.research.google.com/github/kakureru/ISIT/blob/main/ISiT_Task_3.ipynb\" target=\"_parent\"><img src=\"https://colab.research.google.com/assets/colab-badge.svg\" alt=\"Open In Colab\"/></a>"
      ]
    },
    {
      "cell_type": "code",
      "source": [
        "def funny(i): # проверка счастья ячейки\n",
        "    def check(*args):\n",
        "      g = 0\n",
        "      for value in args:\n",
        "        if G[i] == value:\n",
        "          g += 1\n",
        "      return g\n",
        "    \n",
        "    if G[i] == 0:\n",
        "        return(True)\n",
        "\n",
        "    good = 0\n",
        "    if i == 0:\n",
        "      good += check(G[1], G[N], G[N+1])\n",
        "    elif i == N - 1:\n",
        "      good += check(G[i - 1], G[i + N], G[i + N - 1])\n",
        "    elif i == N * N - 1:\n",
        "      good += check(G[i-1], G[i-N], G[i-N-1])\n",
        "    elif i == N * (N - 1):\n",
        "      good += check(G[i+1], G[i-N], G[i-N+1])\n",
        "    elif i % N == 0 and i != 0 and i != N * (N - 1):\n",
        "      good += check(G[i + 1], G[i - N], G[i + N], G[i - N + 1], G[i + N + 1])\n",
        "    elif (i + 1) % N == 0 and i != N - 1 and i != N * N - 1:\n",
        "      good += check(G[i - 1], G[i - N], G[i + N], G[i - N - 1], G[i + N - 1])\n",
        "    elif i > 0 and i < N - 1:\n",
        "      good += check(G[i-1], G[i+1], G[i+N], G[i+N+1], G[i+N-1])\n",
        "    elif i > N * (N - 1) and i < N * N - 1:\n",
        "      good += check(G[i-1], G[i+1], G[i-N], G[i-N+1], G[i-N-1])\n",
        "    else:\n",
        "      good += check(G[i-1], G[i+1], G[i-N], G[i+N], G[i-N+1], G[i+N+1], G[i-N-1], G[i+N-1])\n",
        "      \n",
        "    if good >= 2:\n",
        "        return(True)\n",
        "    else:\n",
        "        return(False)"
      ],
      "metadata": {
        "id": "9SrtwAg-rJxh"
      },
      "execution_count": 221,
      "outputs": []
    },
    {
      "cell_type": "code",
      "source": [
        "def checkswap(*args):\n",
        "  s=[]\n",
        "  for value in args:\n",
        "    if not funny(value):\n",
        "      s.append(value)\n",
        "  return s"
      ],
      "metadata": {
        "id": "02wc-Azyrs2O"
      },
      "execution_count": 222,
      "outputs": []
    },
    {
      "cell_type": "code",
      "source": [
        "import random\n",
        "import numpy as np\n",
        "import matplotlib.pyplot as plt\n",
        "\n",
        "N=20\n",
        "max_iter=1000\n",
        "color=int(0.45*N*N)\n",
        "G=[0]*N*N # весь квадрат выпрямленный в линию\n",
        "void=[] # список номеров пустых ячеек\n",
        "sad=[] # список номеров несчастных ячеек\n",
        "\n",
        "count=0\n",
        "while count!=color:\n",
        "    q=int(random.random()*N*N)\n",
        "    if G[q]==0:\n",
        "        G[q]=1\n",
        "        count+=1\n",
        "\n",
        "count=0\n",
        "while count!=color:\n",
        "    q=int(random.random()*N*N)\n",
        "    if G[q]==0:\n",
        "        G[q]=-1\n",
        "        count+=1\n",
        "\n",
        "for i in range(len(G)):\n",
        "    if not funny(i):\n",
        "        sad.append(i)\n",
        "    if G[i]==0:\n",
        "        void.append(i)\n",
        "\n",
        "iter=0\n",
        "while sad!=[] and iter!=max_iter:         \n",
        "    iter+=1\n",
        "    swwap1=int(random.random()*len(sad))\n",
        "    swwap2=int(random.random()*len(void))\n",
        "    swap1=sad[swwap1]\n",
        "    swap2=void[swwap2]\n",
        "    p=G[swap2]\n",
        "    G[swap2]=G[swap1]\n",
        "    G[swap1]=p\n",
        "    void.pop(swwap2)\n",
        "    void.append(swap1)\n",
        "    sad.pop(swwap1)\n",
        "\n",
        "    #swap1\n",
        "    if swap1<N:\n",
        "      if swap1!=0:\n",
        "        sad.extend(checkswap(swap1-1))\n",
        "      sad.extend(checkswap(swap1, swap1+1, swap1+N, swap1+N-1, swap1+N+1))\n",
        "    elif swap1 >= N*(N-1):\n",
        "      if swap1!=N*N-1:\n",
        "        sad.extend(checkswap(swap1 + 1))\n",
        "      sad.extend(checkswap(swap1 - 1, swap1, swap1 - N, swap1 - N - 1, swap1 - N + 1))\n",
        "    else:\n",
        "      if swap1!=N:\n",
        "        sad.extend(checkswap(swap1 - N - 1))\n",
        "      if swap1!=N*(N-1)-1:\n",
        "        sad.extend(checkswap(swap1 + N + 1))\n",
        "      sad.extend(checkswap(swap1 - 1, swap1, swap1 + 1, swap1 - N, swap1 - N + 1, swap1 + N, swap1 + N - 1))\n",
        "\n",
        "    #swap2\n",
        "    if swap2<N:\n",
        "      if swap2!=0:\n",
        "        sad.extend(checkswap(swap2-1))\n",
        "      sad.extend(checkswap(swap2, swap2+1, swap2+N, swap2+N-1, swap2+N+1))\n",
        "    elif swap2 >= N*(N-1):        \n",
        "        if swap2!=N*N-1:\n",
        "          sad.extend(checkswap(swap2 + 1))\n",
        "        sad.extend(checkswap(swap2 - 1, swap2, swap2 - N, swap2 - N - 1, swap2 - N + 1))\n",
        "    else:\n",
        "      if swap2!=N:\n",
        "        sad.extend(checkswap(swap2 - N - 1))\n",
        "      if swap2!=N*(N-1)-1:\n",
        "        sad.extend(checkswap(swap2 + N + 1))\n",
        "      sad.extend(checkswap(swap2 - 1, swap2, swap2 + 1, swap2 - N, swap2 - N + 1, swap2 + N, swap2 + N - 1))  \n",
        "\n",
        "    sadd=list(set(sad))\n",
        "    sad=sadd\n",
        "   \n",
        "# Plot\n",
        "fig, ax = plt.subplots()\n",
        "ax.cla()\n",
        "ax.set_title(\"Iteration {}\".format(iter + 1))\n",
        "plt.imshow(np.reshape(G, (N, N)), cmap='bwr', vmin=-1, vmax=1)\n",
        "\n",
        "if (sad == []):\n",
        "  print(\"Everyone is happy\")"
      ],
      "metadata": {
        "colab": {
          "base_uri": "https://localhost:8080/",
          "height": 298
        },
        "id": "y1sjcu_bV0IW",
        "outputId": "15210449-fedf-4b93-fdd5-7d89339b120b"
      },
      "execution_count": 223,
      "outputs": [
        {
          "output_type": "stream",
          "name": "stdout",
          "text": [
            "Everyone is happy\n"
          ]
        },
        {
          "output_type": "display_data",
          "data": {
            "text/plain": [
              "<Figure size 432x288 with 1 Axes>"
            ],
            "image/png": "[encoded data removed]"
          },
          "metadata": {
            "needs_background": "light"
          }
        }
      ]
    }
  ]
}